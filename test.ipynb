{
 "cells": [
  {
   "cell_type": "code",
   "execution_count": 1,
   "metadata": {},
   "outputs": [],
   "source": [
    "import xoyondo as xy"
   ]
  },
  {
   "cell_type": "code",
   "execution_count": 2,
   "metadata": {},
   "outputs": [],
   "source": [
    "xoyo = xy.xoyondo(\"https://xoyondo.com/dp/QaVa6chaXJIgsnh/hnLajFxaIS\")"
   ]
  },
  {
   "cell_type": "code",
   "execution_count": 8,
   "metadata": {},
   "outputs": [
    {
     "name": "stdout",
     "output_type": "stream",
     "text": [
      "Index 10 out of range.\n"
     ]
    },
    {
     "data": {
      "text/plain": [
       "['Index 10 out of range.']"
      ]
     },
     "execution_count": 8,
     "metadata": {},
     "output_type": "execute_result"
    }
   ],
   "source": [
    "xoyo.delete_date('10:11')"
   ]
  },
  {
   "cell_type": "code",
   "execution_count": 13,
   "metadata": {},
   "outputs": [
    {
     "data": {
      "text/plain": [
       "[]"
      ]
     },
     "execution_count": 13,
     "metadata": {},
     "output_type": "execute_result"
    }
   ],
   "source": [
    "xoyo.get_date_for_index([-7])"
   ]
  },
  {
   "cell_type": "code",
   "execution_count": 6,
   "metadata": {},
   "outputs": [
    {
     "name": "stdout",
     "output_type": "stream",
     "text": [
      "Invalid date: 2023/09/24\n"
     ]
    },
    {
     "data": {
      "text/plain": [
       "([], ['Invalid date: 2023/09/24'])"
      ]
     },
     "execution_count": 6,
     "metadata": {},
     "output_type": "execute_result"
    }
   ],
   "source": [
    "xoyo.get_index_for_date('2023/09/24')"
   ]
  },
  {
   "cell_type": "code",
   "execution_count": 6,
   "metadata": {},
   "outputs": [
    {
     "name": "stdout",
     "output_type": "stream",
     "text": [
      "Successfully added date 2023/09/25\n",
      "Successfully added date 2023/09/26\n",
      "Successfully added date 2023/09/27\n",
      "Successfully added date 2023/09/28\n",
      "Successfully added date 2023/09/29\n",
      "Successfully added date 2023/09/30\n"
     ]
    }
   ],
   "source": [
    "xoyo.add_date('2023/09/25:2023/09/30')"
   ]
  },
  {
   "cell_type": "code",
   "execution_count": 10,
   "metadata": {},
   "outputs": [
    {
     "name": "stdout",
     "output_type": "stream",
     "text": [
      "{'date_index': 4, 'yes_count': 0, 'no_count': 0, 'maybe_count': 0, 'question_count': 2}\n",
      "['2023/09/29']\n"
     ]
    }
   ],
   "source": [
    "votes = xoyo.get_vote()\n",
    "index = 4\n",
    "print(votes[index])\n",
    "print(xoyo.get_date_for_index(votes[index]['date_index']))"
   ]
  },
  {
   "cell_type": "code",
   "execution_count": null,
   "metadata": {},
   "outputs": [],
   "source": []
  },
  {
   "cell_type": "markdown",
   "metadata": {},
   "source": [
    "# Test delete_dates"
   ]
  },
  {
   "cell_type": "code",
   "execution_count": 1,
   "metadata": {},
   "outputs": [],
   "source": [
    "import xoyondo as xy"
   ]
  },
  {
   "cell_type": "code",
   "execution_count": 2,
   "metadata": {},
   "outputs": [],
   "source": [
    "xoyo = xy.xoyondo(\"https://xoyondo.com/dp/QaVa6chaXJIgsnh/hnLajFxaIS\")"
   ]
  },
  {
   "cell_type": "code",
   "execution_count": 4,
   "metadata": {},
   "outputs": [
    {
     "name": "stdout",
     "output_type": "stream",
     "text": [
      "Successfully added date 2023/09/30\n",
      "Successfully added date 2023/09/28\n",
      "Successfully added date 2023/09/29\n",
      "Successfully added date 2023/09/27\n",
      "Successfully added date 2023/09/25\n",
      "Successfully added date 2023/09/26\n"
     ]
    },
    {
     "data": {
      "text/plain": [
       "['Successfully added date 2023/09/30',\n",
       " 'Successfully added date 2023/09/28',\n",
       " 'Successfully added date 2023/09/29',\n",
       " 'Successfully added date 2023/09/27',\n",
       " 'Successfully added date 2023/09/25',\n",
       " 'Successfully added date 2023/09/26']"
      ]
     },
     "execution_count": 4,
     "metadata": {},
     "output_type": "execute_result"
    }
   ],
   "source": [
    "xoyo.add_dates('2023/09/25:2023/09/30')"
   ]
  },
  {
   "cell_type": "code",
   "execution_count": 10,
   "metadata": {},
   "outputs": [
    {
     "name": "stdout",
     "output_type": "stream",
     "text": [
      "Full deletion not possible as there will be '2023/09/30' left.\n",
      "Deletion will result in only one date being left. It is thus not possible.\n",
      "Successfully deleted date with ID 12622488\n",
      "Successfully deleted date with ID 12622486\n",
      "Successfully deleted date with ID 12622485\n"
     ]
    },
    {
     "data": {
      "text/plain": [
       "[\"Full deletion not possible as there will be '2023/09/30' left.\",\n",
       " 'Deletion will result in only one date being left. It is thus not possible.',\n",
       " 'Successfully deleted date with ID 12622488',\n",
       " 'Successfully deleted date with ID 12622486',\n",
       " 'Successfully deleted date with ID 12622485']"
      ]
     },
     "execution_count": 10,
     "metadata": {},
     "output_type": "execute_result"
    }
   ],
   "source": [
    "xoyo.delete_dates()"
   ]
  },
  {
   "cell_type": "markdown",
   "metadata": {},
   "source": [
    "# Test add_dates"
   ]
  },
  {
   "cell_type": "code",
   "execution_count": 12,
   "metadata": {},
   "outputs": [],
   "source": [
    "import xoyondo as xy"
   ]
  },
  {
   "cell_type": "code",
   "execution_count": 13,
   "metadata": {},
   "outputs": [],
   "source": [
    "xoyo = xy.xoyondo(\"https://xoyondo.com/dp/QaVa6chaXJIgsnh/hnLajFxaIS\")"
   ]
  },
  {
   "cell_type": "code",
   "execution_count": 21,
   "metadata": {},
   "outputs": [
    {
     "name": "stdout",
     "output_type": "stream",
     "text": [
      "Successfully added date 2023/09/25\n"
     ]
    },
    {
     "data": {
      "text/plain": [
       "['Successfully added date 2023/09/25']"
      ]
     },
     "execution_count": 21,
     "metadata": {},
     "output_type": "execute_result"
    }
   ],
   "source": [
    "xoyo.add_dates(\"2023/09/25\")"
   ]
  },
  {
   "cell_type": "code",
   "execution_count": 22,
   "metadata": {},
   "outputs": [
    {
     "name": "stdout",
     "output_type": "stream",
     "text": [
      "No such date to delete: 2023/09/26\n",
      "No such date to delete: 2023/09/27\n",
      "No such date to delete: 2023/09/28\n",
      "No such date to delete: 2023/09/29\n",
      "Deletion will result in only one date being left. It is thus not possible.\n",
      "Successfully deleted date with ID 12623414\n"
     ]
    },
    {
     "data": {
      "text/plain": [
       "['No such date to delete: 2023/09/26',\n",
       " 'No such date to delete: 2023/09/27',\n",
       " 'No such date to delete: 2023/09/28',\n",
       " 'No such date to delete: 2023/09/29',\n",
       " 'Deletion will result in only one date being left. It is thus not possible.',\n",
       " 'Successfully deleted date with ID 12623414']"
      ]
     },
     "execution_count": 22,
     "metadata": {},
     "output_type": "execute_result"
    }
   ],
   "source": [
    "xoyo.delete_dates(\"2023/09/25:2023/09/30\")"
   ]
  },
  {
   "cell_type": "markdown",
   "metadata": {},
   "source": [
    "# Test delete_users"
   ]
  },
  {
   "cell_type": "code",
   "execution_count": 4,
   "metadata": {},
   "outputs": [],
   "source": [
    "import xoyondo as xy"
   ]
  },
  {
   "cell_type": "code",
   "execution_count": 5,
   "metadata": {},
   "outputs": [],
   "source": [
    "xoyo = xy.xoyondo(\"https://xoyondo.com/dp/QaVa6chaXJIgsnh/hnLajFxaIS\")"
   ]
  },
  {
   "cell_type": "code",
   "execution_count": 6,
   "metadata": {},
   "outputs": [
    {
     "name": "stdout",
     "output_type": "stream",
     "text": [
      "Deletion not possible as there is no user registered.\n"
     ]
    },
    {
     "data": {
      "text/plain": [
       "['Deletion not possible as there is no user registered.']"
      ]
     },
     "execution_count": 6,
     "metadata": {},
     "output_type": "execute_result"
    }
   ],
   "source": [
    "xoyo.delete_users(\"Testname 2\")"
   ]
  },
  {
   "cell_type": "markdown",
   "metadata": {},
   "source": [
    "# Test get_votes"
   ]
  },
  {
   "cell_type": "code",
   "execution_count": 3,
   "metadata": {},
   "outputs": [],
   "source": [
    "import xoyondo as xy"
   ]
  },
  {
   "cell_type": "code",
   "execution_count": 4,
   "metadata": {},
   "outputs": [],
   "source": [
    "xoyo = xy.Xoyondo(\"https://xoyondo.com/dp/QaVa6chaXJIgsnh/hnLajFxaIS\")"
   ]
  },
  {
   "cell_type": "code",
   "execution_count": 6,
   "metadata": {},
   "outputs": [
    {
     "name": "stdout",
     "output_type": "stream",
     "text": [
      "[{'date_index': 0, 'yes_count': 0, 'no_count': 0, 'maybe_count': 1, 'question_count': 0}, {'date_index': 1, 'yes_count': 0, 'no_count': 1, 'maybe_count': 0, 'question_count': 0}, {'date_index': 2, 'yes_count': 1, 'no_count': 0, 'maybe_count': 0, 'question_count': 0}]\n",
      "[['2023/09/24'], ['2023/09/25'], ['2023/09/26']]\n"
     ]
    }
   ],
   "source": [
    "votes = xoyo.get_votes()[0]\n",
    "print(votes)\n",
    "print(list(xoyo.get_date_for_index(vote['date_index'])[0] for vote in votes))"
   ]
  },
  {
   "cell_type": "code",
   "execution_count": 10,
   "metadata": {},
   "outputs": [
    {
     "data": {
      "text/plain": [
       "['2023/09/24', '2023/09/25', '2023/09/26']"
      ]
     },
     "execution_count": 10,
     "metadata": {},
     "output_type": "execute_result"
    }
   ],
   "source": [
    "[xoyo.get_date_for_index(vote['date_index'])[0][0] for vote in votes]"
   ]
  },
  {
   "cell_type": "markdown",
   "metadata": {},
   "source": [
    "# Test get_date_for_index"
   ]
  },
  {
   "cell_type": "code",
   "execution_count": 1,
   "metadata": {},
   "outputs": [],
   "source": [
    "import xoyondo as xy"
   ]
  },
  {
   "cell_type": "code",
   "execution_count": 2,
   "metadata": {},
   "outputs": [],
   "source": [
    "xoyo = xy.xoyondo(\"https://xoyondo.com/dp/QaVa6chaXJIgsnh/hnLajFxaIS\")"
   ]
  },
  {
   "cell_type": "code",
   "execution_count": 6,
   "metadata": {},
   "outputs": [
    {
     "data": {
      "text/plain": [
       "(['2023/09/25',\n",
       "  '2023/09/26',\n",
       "  '2023/09/27',\n",
       "  '2023/09/28',\n",
       "  '2023/09/29',\n",
       "  '2023/09/30'],\n",
       " [])"
      ]
     },
     "execution_count": 6,
     "metadata": {},
     "output_type": "execute_result"
    }
   ],
   "source": [
    "xoyo.get_date_for_index(\"0:5\")"
   ]
  },
  {
   "cell_type": "markdown",
   "metadata": {},
   "source": [
    "# Test get_index_for_date"
   ]
  },
  {
   "cell_type": "code",
   "execution_count": 7,
   "metadata": {},
   "outputs": [],
   "source": [
    "import xoyondo as xy"
   ]
  },
  {
   "cell_type": "code",
   "execution_count": 8,
   "metadata": {},
   "outputs": [],
   "source": [
    "xoyo = xy.Xoyondo(\"https://xoyondo.com/dp/QaVa6chaXJIgsnh/hnLajFxaIS\")"
   ]
  },
  {
   "cell_type": "code",
   "execution_count": 14,
   "metadata": {},
   "outputs": [
    {
     "name": "stdout",
     "output_type": "stream",
     "text": [
      "Invalid date: -1\n"
     ]
    },
    {
     "data": {
      "text/plain": [
       "([], ['Invalid date: -1'])"
      ]
     },
     "execution_count": 14,
     "metadata": {},
     "output_type": "execute_result"
    }
   ],
   "source": [
    "xoyo.get_index_for_date(-1)"
   ]
  },
  {
   "cell_type": "markdown",
   "metadata": {},
   "source": [
    "# Test get_date"
   ]
  },
  {
   "cell_type": "code",
   "execution_count": 1,
   "metadata": {},
   "outputs": [],
   "source": [
    "import xoyondo as xy"
   ]
  },
  {
   "cell_type": "code",
   "execution_count": 2,
   "metadata": {},
   "outputs": [],
   "source": [
    "xoyo = xy.Xoyondo(\"https://xoyondo.com/dp/QaVa6chaXJIgsnh/hnLajFxaIS\")"
   ]
  },
  {
   "cell_type": "code",
   "execution_count": 3,
   "metadata": {},
   "outputs": [
    {
     "data": {
      "text/plain": [
       "(['2023/09/25',\n",
       "  '2023/09/26',\n",
       "  '2023/09/27',\n",
       "  '2023/09/28',\n",
       "  '2023/09/29',\n",
       "  '2023/09/30'],\n",
       " [])"
      ]
     },
     "execution_count": 3,
     "metadata": {},
     "output_type": "execute_result"
    }
   ],
   "source": [
    "xoyo.get_dates()"
   ]
  },
  {
   "cell_type": "markdown",
   "metadata": {},
   "source": [
    "# Test get_users"
   ]
  },
  {
   "cell_type": "code",
   "execution_count": 4,
   "metadata": {},
   "outputs": [],
   "source": [
    "import xoyondo as xy"
   ]
  },
  {
   "cell_type": "code",
   "execution_count": 5,
   "metadata": {},
   "outputs": [],
   "source": [
    "xoyo = xy.Xoyondo(\"https://xoyondo.com/dp/QaVa6chaXJIgsnh/hnLajFxaIS\")"
   ]
  },
  {
   "cell_type": "code",
   "execution_count": 6,
   "metadata": {},
   "outputs": [
    {
     "data": {
      "text/plain": [
       "(['Testname 1', 'Testname 2'], [])"
      ]
     },
     "execution_count": 6,
     "metadata": {},
     "output_type": "execute_result"
    }
   ],
   "source": [
    "xoyo.get_users()"
   ]
  },
  {
   "cell_type": "markdown",
   "metadata": {},
   "source": [
    "# Test get_user_votes"
   ]
  },
  {
   "cell_type": "code",
   "execution_count": 4,
   "metadata": {},
   "outputs": [],
   "source": [
    "import xoyondo as xy"
   ]
  },
  {
   "cell_type": "code",
   "execution_count": 5,
   "metadata": {},
   "outputs": [
    {
     "name": "stdout",
     "output_type": "stream",
     "text": [
      "URL has correct format: https://xoyondo.com/dp/QaVa6chaXJIgsnh/hnLajFxaIS. Consisting of ID: QaVa6chaXJIgsnh and password: hnLajFxaIS\n"
     ]
    }
   ],
   "source": [
    "xoyo = xy.Xoyondo(\"https://xoyondo.com/dp/QaVa6chaXJIgsnh/hnLajFxaIS\")"
   ]
  },
  {
   "cell_type": "code",
   "execution_count": 6,
   "metadata": {},
   "outputs": [
    {
     "name": "stdout",
     "output_type": "stream",
     "text": [
      "Successfully fetched webpage: https://xoyondo.com/dp/QaVa6chaXJIgsnh/hnLajFxaIS\n"
     ]
    },
    {
     "data": {
      "text/plain": [
       "({'Adrian': {0: 'yes',\n",
       "   1: 'maybe',\n",
       "   2: 'yes',\n",
       "   3: 'yes',\n",
       "   4: 'no',\n",
       "   5: 'maybe',\n",
       "   6: 'no'}},\n",
       " ['Successfully fetched webpage: https://xoyondo.com/dp/QaVa6chaXJIgsnh/hnLajFxaIS'])"
      ]
     },
     "execution_count": 6,
     "metadata": {},
     "output_type": "execute_result"
    }
   ],
   "source": [
    "xoyo.get_user_votes(\"Adrian\")"
   ]
  },
  {
   "cell_type": "markdown",
   "metadata": {},
   "source": [
    "# Test add_week and add_month"
   ]
  },
  {
   "cell_type": "code",
   "execution_count": 1,
   "metadata": {},
   "outputs": [],
   "source": [
    "import xoyondo_wrapper as xyw"
   ]
  },
  {
   "cell_type": "code",
   "execution_count": 2,
   "metadata": {},
   "outputs": [],
   "source": [
    "xoyow = xyw.Xoyondo_Wrapper(\"https://xoyondo.com/dp/QaVa6chaXJIgsnh/hnLajFxaIS\")"
   ]
  },
  {
   "cell_type": "code",
   "execution_count": 3,
   "metadata": {},
   "outputs": [
    {
     "name": "stdout",
     "output_type": "stream",
     "text": [
      "Invalid input: 1\n"
     ]
    },
    {
     "data": {
      "text/plain": [
       "('', ['Invalid input: 1'])"
      ]
     },
     "execution_count": 3,
     "metadata": {},
     "output_type": "execute_result"
    }
   ],
   "source": [
    "xoyow.get_week(1)"
   ]
  },
  {
   "cell_type": "code",
   "execution_count": 9,
   "metadata": {},
   "outputs": [
    {
     "data": {
      "text/plain": [
       "(['2023/01/01',\n",
       "  '2023/01/02',\n",
       "  '2023/01/03',\n",
       "  '2023/01/04',\n",
       "  '2023/01/05',\n",
       "  '2023/01/06',\n",
       "  '2023/01/07',\n",
       "  '2023/01/08',\n",
       "  '2023/01/09',\n",
       "  '2023/01/10',\n",
       "  '2023/01/11',\n",
       "  '2023/01/12',\n",
       "  '2023/01/13',\n",
       "  '2023/01/14',\n",
       "  '2023/01/15',\n",
       "  '2023/01/16',\n",
       "  '2023/01/17',\n",
       "  '2023/01/18',\n",
       "  '2023/01/19',\n",
       "  '2023/01/20',\n",
       "  '2023/01/21',\n",
       "  '2023/01/22',\n",
       "  '2023/01/23',\n",
       "  '2023/01/24',\n",
       "  '2023/01/25',\n",
       "  '2023/01/26',\n",
       "  '2023/01/27',\n",
       "  '2023/01/28',\n",
       "  '2023/01/29',\n",
       "  '2023/01/30',\n",
       "  '2023/01/31'],\n",
       " [])"
      ]
     },
     "execution_count": 9,
     "metadata": {},
     "output_type": "execute_result"
    }
   ],
   "source": [
    "xoyow.get_month(\"2023/01\")"
   ]
  },
  {
   "cell_type": "markdown",
   "metadata": {},
   "source": [
    "# Test reset_poll"
   ]
  },
  {
   "cell_type": "code",
   "execution_count": 1,
   "metadata": {},
   "outputs": [],
   "source": [
    "import xoyondo_wrapper as xyw"
   ]
  },
  {
   "cell_type": "code",
   "execution_count": 2,
   "metadata": {},
   "outputs": [],
   "source": [
    "xoyow = xyw.Xoyondo_Wrapper(\"https://xoyondo.com/dp/QaVa6chaXJIgsnh/hnLajFxaIS\")"
   ]
  },
  {
   "cell_type": "code",
   "execution_count": 3,
   "metadata": {},
   "outputs": [
    {
     "data": {
      "text/plain": [
       "'2023/09/18:2023/09/24'"
      ]
     },
     "execution_count": 3,
     "metadata": {},
     "output_type": "execute_result"
    }
   ],
   "source": [
    "xoyow.get_week(\"2023/38\")[0]"
   ]
  },
  {
   "cell_type": "code",
   "execution_count": 4,
   "metadata": {},
   "outputs": [
    {
     "name": "stdout",
     "output_type": "stream",
     "text": [
      "Successfully added date 2023/09/21\n",
      "Successfully added date 2023/09/19\n",
      "Successfully added date 2023/09/22\n",
      "Successfully added date 2023/09/18\n",
      "Successfully added date 2023/09/20\n",
      "Successfully added date 2023/09/23\n",
      "Successfully deleted date with ID 12702141\n",
      "Successfully deleted date with ID 12702139\n",
      "Successfully deleted user with ID 15094163\n"
     ]
    },
    {
     "data": {
      "text/plain": [
       "['Successfully added date 2023/09/21',\n",
       " 'Successfully added date 2023/09/19',\n",
       " 'Successfully added date 2023/09/22',\n",
       " 'Successfully added date 2023/09/18',\n",
       " 'Successfully added date 2023/09/20',\n",
       " 'Successfully added date 2023/09/23',\n",
       " 'Successfully deleted date with ID 12702141',\n",
       " 'Successfully deleted date with ID 12702139',\n",
       " 'Successfully deleted user with ID 15094163']"
      ]
     },
     "execution_count": 4,
     "metadata": {},
     "output_type": "execute_result"
    }
   ],
   "source": [
    "xoyow.reset_poll(xoyow.get_week(\"2023/38\")[0])"
   ]
  },
  {
   "cell_type": "code",
   "execution_count": null,
   "metadata": {},
   "outputs": [],
   "source": [
    "xoyow.reset_poll(xoyow.get_month(\"2023/09\")[0])"
   ]
  },
  {
   "cell_type": "code",
   "execution_count": 5,
   "metadata": {},
   "outputs": [
    {
     "name": "stdout",
     "output_type": "stream",
     "text": [
      "Successfully added date 2023/09/26\n",
      "Successfully added date 2023/09/25\n",
      "Successfully deleted date with ID 12702172\n",
      "Successfully deleted date with ID 12702173\n",
      "Successfully deleted date with ID 12702174\n",
      "Successfully deleted date with ID 12702176\n",
      "Successfully deleted date with ID 12702175\n",
      "Successfully deleted date with ID 12702177\n",
      "Deletion not possible as there is no user registered.\n"
     ]
    },
    {
     "data": {
      "text/plain": [
       "['Successfully added date 2023/09/26',\n",
       " 'Successfully added date 2023/09/25',\n",
       " 'Successfully deleted date with ID 12702172',\n",
       " 'Successfully deleted date with ID 12702173',\n",
       " 'Successfully deleted date with ID 12702174',\n",
       " 'Successfully deleted date with ID 12702176',\n",
       " 'Successfully deleted date with ID 12702175',\n",
       " 'Successfully deleted date with ID 12702177',\n",
       " 'Deletion not possible as there is no user registered.']"
      ]
     },
     "execution_count": 5,
     "metadata": {},
     "output_type": "execute_result"
    }
   ],
   "source": [
    "xoyow.reset_poll(\"2023/09/24:2023/09/26\")"
   ]
  },
  {
   "cell_type": "code",
   "execution_count": 1,
   "metadata": {},
   "outputs": [],
   "source": [
    "import xoyondo as xy\n",
    "import xoyondo_wrapper as xyw"
   ]
  },
  {
   "cell_type": "code",
   "execution_count": 2,
   "metadata": {},
   "outputs": [],
   "source": [
    "xoyow = xyw.Xoyondo_Wrapper(\"https://xoyondo.com/dp/QaVa6chaXJIgsnh/hnLajFxaIS\")"
   ]
  },
  {
   "cell_type": "code",
   "execution_count": 3,
   "metadata": {},
   "outputs": [
    {
     "name": "stdout",
     "output_type": "stream",
     "text": [
      "[{'date_index': 0, 'yes_count': 0, 'no_count': 0, 'maybe_count': 1, 'question_count': 0}, {'date_index': 1, 'yes_count': 0, 'no_count': 1, 'maybe_count': 0, 'question_count': 0}, {'date_index': 2, 'yes_count': 1, 'no_count': 0, 'maybe_count': 0, 'question_count': 0}]\n",
      "['2023/09/24', '2023/09/25', '2023/09/26']\n",
      "0\n"
     ]
    }
   ],
   "source": [
    "xoyow.get_results()"
   ]
  },
  {
   "cell_type": "code",
   "execution_count": 3,
   "metadata": {},
   "outputs": [
    {
     "data": {
      "text/plain": [
       "{'date_index': 0,\n",
       " 'yes_count': 0,\n",
       " 'no_count': 0,\n",
       " 'maybe_count': 1,\n",
       " 'question_count': 0}"
      ]
     },
     "execution_count": 3,
     "metadata": {},
     "output_type": "execute_result"
    }
   ],
   "source": [
    "xoyow.get_votes_by_index()[0][0]"
   ]
  },
  {
   "cell_type": "code",
   "execution_count": 8,
   "metadata": {},
   "outputs": [
    {
     "data": {
      "text/plain": [
       "[{'date': '2023/09/24',\n",
       "  'yes_count': 0,\n",
       "  'no_count': 0,\n",
       "  'maybe_count': 1,\n",
       "  'question_count': 0},\n",
       " {'date': '2023/09/25',\n",
       "  'yes_count': 0,\n",
       "  'no_count': 1,\n",
       "  'maybe_count': 0,\n",
       "  'question_count': 0},\n",
       " {'date': '2023/09/26',\n",
       "  'yes_count': 1,\n",
       "  'no_count': 0,\n",
       "  'maybe_count': 0,\n",
       "  'question_count': 0}]"
      ]
     },
     "execution_count": 8,
     "metadata": {},
     "output_type": "execute_result"
    }
   ],
   "source": [
    "xoyow.get_votes_by_date()[0]"
   ]
  },
  {
   "cell_type": "code",
   "execution_count": 1,
   "metadata": {},
   "outputs": [],
   "source": [
    "import xoyondo_wrapper as xyw"
   ]
  },
  {
   "cell_type": "code",
   "execution_count": 2,
   "metadata": {},
   "outputs": [
    {
     "name": "stdout",
     "output_type": "stream",
     "text": [
      "URL has correct format. Consisting of ID: QaVa6chaXJIgsnh and password: hnLajFxaIS\n"
     ]
    }
   ],
   "source": [
    "xoyow = xyw.Xoyondo_Wrapper(\"https://xoyondo.com/dp/QaVa6chaXJIgsnh/hnLajFxaIS\")"
   ]
  },
  {
   "cell_type": "code",
   "execution_count": 3,
   "metadata": {},
   "outputs": [
    {
     "name": "stdout",
     "output_type": "stream",
     "text": [
      "2023 -1\n"
     ]
    },
    {
     "ename": "ValueError",
     "evalue": "Invalied input: 2023/-1",
     "output_type": "error",
     "traceback": [
      "\u001b[1;31m---------------------------------------------------------------------------\u001b[0m",
      "\u001b[1;31mValueError\u001b[0m                                Traceback (most recent call last)",
      "File \u001b[1;32mc:\\Users\\adria_2kba\\Desktop\\Projekte\\Discord_Bot_TTT_DHBW\\xoyondo_wrapper.py:28\u001b[0m, in \u001b[0;36mXoyondo_Wrapper.get_week\u001b[1;34m(self, week)\u001b[0m\n\u001b[0;32m     27\u001b[0m \u001b[39mtry\u001b[39;00m:\n\u001b[1;32m---> 28\u001b[0m     first_day_of_week \u001b[39m=\u001b[39m datetime\u001b[39m.\u001b[39;49mdatetime\u001b[39m.\u001b[39;49mstrptime(\u001b[39mf\u001b[39;49m\u001b[39m'\u001b[39;49m\u001b[39m{\u001b[39;49;00myear\u001b[39m}\u001b[39;49;00m\u001b[39m-W\u001b[39;49m\u001b[39m{\u001b[39;49;00mweek_number\u001b[39m}\u001b[39;49;00m\u001b[39m -1\u001b[39;49m\u001b[39m'\u001b[39;49m, \u001b[39m\"\u001b[39;49m\u001b[39m%\u001b[39;49m\u001b[39mY-W\u001b[39;49m\u001b[39m%\u001b[39;49m\u001b[39mW -\u001b[39;49m\u001b[39m%\u001b[39;49m\u001b[39mw\u001b[39;49m\u001b[39m\"\u001b[39;49m)\n\u001b[0;32m     29\u001b[0m     last_day_of_week \u001b[39m=\u001b[39m first_day_of_week \u001b[39m+\u001b[39m datetime\u001b[39m.\u001b[39mtimedelta(days\u001b[39m=\u001b[39m\u001b[39m6\u001b[39m)\n",
      "File \u001b[1;32mc:\\Users\\adria_2kba\\AppData\\Local\\Programs\\Python\\Python310\\lib\\_strptime.py:568\u001b[0m, in \u001b[0;36m_strptime_datetime\u001b[1;34m(cls, data_string, format)\u001b[0m\n\u001b[0;32m    566\u001b[0m \u001b[39m\"\"\"Return a class cls instance based on the input string and the\u001b[39;00m\n\u001b[0;32m    567\u001b[0m \u001b[39mformat string.\"\"\"\u001b[39;00m\n\u001b[1;32m--> 568\u001b[0m tt, fraction, gmtoff_fraction \u001b[39m=\u001b[39m _strptime(data_string, \u001b[39mformat\u001b[39;49m)\n\u001b[0;32m    569\u001b[0m tzname, gmtoff \u001b[39m=\u001b[39m tt[\u001b[39m-\u001b[39m\u001b[39m2\u001b[39m:]\n",
      "File \u001b[1;32mc:\\Users\\adria_2kba\\AppData\\Local\\Programs\\Python\\Python310\\lib\\_strptime.py:349\u001b[0m, in \u001b[0;36m_strptime\u001b[1;34m(data_string, format)\u001b[0m\n\u001b[0;32m    348\u001b[0m \u001b[39mif\u001b[39;00m \u001b[39mnot\u001b[39;00m found:\n\u001b[1;32m--> 349\u001b[0m     \u001b[39mraise\u001b[39;00m \u001b[39mValueError\u001b[39;00m(\u001b[39m\"\u001b[39m\u001b[39mtime data \u001b[39m\u001b[39m%r\u001b[39;00m\u001b[39m does not match format \u001b[39m\u001b[39m%r\u001b[39;00m\u001b[39m\"\u001b[39m \u001b[39m%\u001b[39m\n\u001b[0;32m    350\u001b[0m                      (data_string, \u001b[39mformat\u001b[39m))\n\u001b[0;32m    351\u001b[0m \u001b[39mif\u001b[39;00m \u001b[39mlen\u001b[39m(data_string) \u001b[39m!=\u001b[39m found\u001b[39m.\u001b[39mend():\n",
      "\u001b[1;31mValueError\u001b[0m: time data '2023-W-1 -1' does not match format '%Y-W%W -%w'",
      "\nDuring handling of the above exception, another exception occurred:\n",
      "\u001b[1;31mValueError\u001b[0m                                Traceback (most recent call last)",
      "\u001b[1;32mc:\\Users\\adria_2kba\\Desktop\\Projekte\\Discord_Bot_TTT_DHBW\\test.ipynb Cell 67\u001b[0m line \u001b[0;36m<cell line: 1>\u001b[1;34m()\u001b[0m\n\u001b[1;32m----> <a href='vscode-notebook-cell:/c%3A/Users/adria_2kba/Desktop/Projekte/Discord_Bot_TTT_DHBW/test.ipynb#Y131sZmlsZQ%3D%3D?line=0'>1</a>\u001b[0m xoyow\u001b[39m.\u001b[39;49mget_week(\u001b[39m\"\u001b[39;49m\u001b[39m2023/-1\u001b[39;49m\u001b[39m\"\u001b[39;49m)\n",
      "File \u001b[1;32mc:\\Users\\adria_2kba\\Desktop\\Projekte\\Discord_Bot_TTT_DHBW\\xoyondo_wrapper.py:36\u001b[0m, in \u001b[0;36mXoyondo_Wrapper.get_week\u001b[1;34m(self, week)\u001b[0m\n\u001b[0;32m     34\u001b[0m         \u001b[39mreturn\u001b[39;00m date_range, messages\n\u001b[0;32m     35\u001b[0m     \u001b[39mexcept\u001b[39;00m \u001b[39mValueError\u001b[39;00m:\n\u001b[1;32m---> 36\u001b[0m         \u001b[39mraise\u001b[39;00m \u001b[39mValueError\u001b[39;00m(\u001b[39mf\u001b[39m\u001b[39m'\u001b[39m\u001b[39mInvalied input: \u001b[39m\u001b[39m{\u001b[39;00mweek\u001b[39m}\u001b[39;00m\u001b[39m'\u001b[39m)\n\u001b[0;32m     38\u001b[0m \u001b[39melse\u001b[39;00m:\n\u001b[0;32m     39\u001b[0m     \u001b[39mraise\u001b[39;00m \u001b[39mValueError\u001b[39;00m(\u001b[39mf\u001b[39m\u001b[39m'\u001b[39m\u001b[39mInvalid input: \u001b[39m\u001b[39m{\u001b[39;00mweek\u001b[39m}\u001b[39;00m\u001b[39m'\u001b[39m)\n",
      "\u001b[1;31mValueError\u001b[0m: Invalied input: 2023/-1"
     ]
    }
   ],
   "source": [
    "xoyow.get_week(\"2023/-1\")"
   ]
  },
  {
   "cell_type": "code",
   "execution_count": null,
   "metadata": {},
   "outputs": [],
   "source": []
  }
 ],
 "metadata": {
  "kernelspec": {
   "display_name": "Python 3",
   "language": "python",
   "name": "python3"
  },
  "language_info": {
   "codemirror_mode": {
    "name": "ipython",
    "version": 3
   },
   "file_extension": ".py",
   "mimetype": "text/x-python",
   "name": "python",
   "nbconvert_exporter": "python",
   "pygments_lexer": "ipython3",
   "version": "3.10.4"
  },
  "orig_nbformat": 4
 },
 "nbformat": 4,
 "nbformat_minor": 2
}
